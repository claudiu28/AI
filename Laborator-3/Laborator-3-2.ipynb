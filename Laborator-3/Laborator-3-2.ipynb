{
 "cells": [
  {
   "cell_type": "code",
   "id": "initial_id",
   "metadata": {
    "collapsed": true,
    "ExecuteTime": {
     "end_time": "2025-03-20T08:07:13.822132Z",
     "start_time": "2025-03-20T08:07:11.223940Z"
    }
   },
   "source": [
    "from dotenv import load_dotenv\n",
    "from azure.cognitiveservices.vision.computervision import ComputerVisionClient\n",
    "from azure.cognitiveservices.vision.computervision.models import OperationStatusCodes\n",
    "from msrest.authentication import CognitiveServicesCredentials\n",
    "import os\n",
    "import time\n",
    "\n",
    "load_dotenv()\n",
    "\n",
    "subscription_key = os.environ.get('AZURE_SUBSCRIPTION_KEY')\n",
    "endpoint = os.environ.get('AZURE_ENDPOINT')\n",
    "\n",
    "cv_client = ComputerVisionClient(endpoint, CognitiveServicesCredentials(subscription_key))\n",
    "\n",
    "\n",
    "def get_text_locations(image_path, mode=\"Handwritten\"):\n",
    "    with open(image_path, \"rb\") as image_file:\n",
    "        read_response = cv_client.read_in_stream(\n",
    "            image=image_file,\n",
    "            mode=mode,\n",
    "            raw=True\n",
    "        )\n",
    "\n",
    "    operation_id = read_response.headers['Operation-Location'].split('/')[-1]\n",
    "    while True:\n",
    "        read_result = cv_client.get_read_result(operation_id)\n",
    "        if read_result.status not in ['notStarted', 'running']:\n",
    "            break\n",
    "        time.sleep(1)\n",
    "\n",
    "    results = []\n",
    "    if read_result.status == OperationStatusCodes.succeeded:\n",
    "        for text_result in read_result.analyze_result.read_results:\n",
    "            for line in text_result.lines:\n",
    "                result = {\n",
    "                    'text': line.text,\n",
    "                    'bounding_box': line.bounding_box\n",
    "                }\n",
    "                results.append(result)\n",
    "                print(f\"Text detectat: '{line.text}'\")\n",
    "                print(f\"Bounding box: {line.bounding_box}\")\n",
    "    return results\n",
    "\n",
    "\n",
    "def is_box_inside(detected_box, general_box):\n",
    "    x_coords = detected_box[0::2]\n",
    "    y_coords = detected_box[1::2]\n",
    "\n",
    "    for i in range(len(x_coords)):\n",
    "        x, y = x_coords[i], y_coords[i]\n",
    "        if x < general_box[0] or x > general_box[2] or y < general_box[1] or y > general_box[3]:\n",
    "            return False\n",
    "    return True\n",
    "\n",
    "\n",
    "def evaluate_localization(image_path, box_general, mode=\"Handwritten\"):\n",
    "    detected_results = get_text_locations(image_path, mode)\n",
    "    detected_boxes = [result['bounding_box'] for result in detected_results]\n",
    "    total_boxes = len(detected_boxes)\n",
    "    boxes_inside = 0\n",
    "    for bounding_box_detected in detected_boxes:\n",
    "        if is_box_inside(bounding_box_detected, box_general):\n",
    "            boxes_inside += 1\n",
    "    quality = boxes_inside / total_boxes if total_boxes > 0 else 0\n",
    "\n",
    "    print(f\"Nr boxuri detectae: {total_boxes}\")\n",
    "    print(f\"Inside box: {boxes_inside}\")\n",
    "    print(f\"Calitate localizare: {quality:.4f}\")\n",
    "\n",
    "\n",
    "image = \"test2.jpeg\"\n",
    "box = [50, 280, 1500, 1300]\n",
    "evaluate_localization(image, box)"
   ],
   "outputs": [
    {
     "name": "stdout",
     "output_type": "stream",
     "text": [
      "Text detectat: 'Lucces in resolvarea'\n",
      "Bounding box: [86.0, 314.0, 1335.0, 287.0, 1336.0, 443.0, 86.0, 478.0]\n",
      "Text detectat: 'TEMELOR la'\n",
      "Bounding box: [140.0, 590.0, 1045.0, 587.0, 1046.0, 723.0, 140.0, 727.0]\n",
      "Text detectat: 'LABORA toarele de'\n",
      "Bounding box: [81.0, 915.0, 1007.0, 926.0, 1004.0, 1039.0, 78.0, 1014.0]\n",
      "Text detectat: 'Inteligenta Artificialà!'\n",
      "Bounding box: [108.0, 1129.0, 1450.0, 1151.0, 1446.0, 1293.0, 105.0, 1259.0]\n",
      "Nr boxuri detectae: 4\n",
      "Inside box: 4\n",
      "Calitate localizare: 1.0000\n"
     ]
    }
   ],
   "execution_count": 1
  },
  {
   "metadata": {},
   "cell_type": "code",
   "outputs": [],
   "execution_count": null,
   "source": "",
   "id": "79c2b1d5657d1b57"
  },
  {
   "metadata": {},
   "cell_type": "code",
   "outputs": [],
   "execution_count": null,
   "source": "",
   "id": "403e9149750f620b"
  }
 ],
 "metadata": {
  "kernelspec": {
   "display_name": "Python 3",
   "language": "python",
   "name": "python3"
  },
  "language_info": {
   "codemirror_mode": {
    "name": "ipython",
    "version": 2
   },
   "file_extension": ".py",
   "mimetype": "text/x-python",
   "name": "python",
   "nbconvert_exporter": "python",
   "pygments_lexer": "ipython2",
   "version": "2.7.6"
  }
 },
 "nbformat": 4,
 "nbformat_minor": 5
}
