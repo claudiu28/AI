{
 "cells": [
  {
   "cell_type": "code",
   "id": "initial_id",
   "metadata": {
    "collapsed": true,
    "ExecuteTime": {
     "end_time": "2025-04-09T16:03:04.476196Z",
     "start_time": "2025-04-09T16:03:04.439518Z"
    }
   },
   "source": [
    "import numpy as np\n",
    "import csv\n",
    "from sklearn import linear_model\n",
    "from sklearn.preprocessing import StandardScaler\n",
    "\n",
    "\n",
    "def load_data(file_name):\n",
    "    data = []\n",
    "    with open(file_name) as csv_file:\n",
    "        csv_reader = csv.reader(csv_file, delimiter=',')\n",
    "        for row in csv_reader:\n",
    "            radius = float(row[2])\n",
    "            texture = float(row[3])\n",
    "            if row[1] == 'M':\n",
    "                label = 1\n",
    "            else:\n",
    "                label = 0\n",
    "            data.append([[radius, texture], label])\n",
    "    x = [d[0] for d in data]\n",
    "    y = [d[1] for d in data]\n",
    "    return x, y\n",
    "\n",
    "\n",
    "file = './data/wdbc.data'\n",
    "inputs, outputs = load_data(file)\n",
    "feature1 = [ex[0] for ex in inputs]\n",
    "feature2 = [ex[1] for ex in inputs]\n",
    "\n",
    "np.random.seed(5)\n",
    "indexes = [i for i in range(len(inputs))]\n",
    "trainSample = np.random.choice(indexes, int(0.8 * len(inputs)), replace=False)\n",
    "testSample = [i for i in indexes if not i in trainSample]\n",
    "\n",
    "trainInputs = [inputs[i] for i in trainSample]\n",
    "trainOutputs = [outputs[i] for i in trainSample]\n",
    "testInputs = [inputs[i] for i in testSample]\n",
    "testOutputs = [outputs[i] for i in testSample]\n",
    "\n",
    "scaler = StandardScaler()\n",
    "\n",
    "trainInputs = scaler.fit_transform(trainInputs)\n",
    "testInputs = scaler.transform(testInputs)\n",
    "\n",
    "feature1train = [ex[0] for ex in trainInputs]\n",
    "feature2train = [ex[1] for ex in trainInputs]\n",
    "feature1test = [ex[0] for ex in testInputs]\n",
    "feature2test = [ex[1] for ex in testInputs]\n",
    "\n",
    "\n",
    "regressor = linear_model.LogisticRegression(penalty='l2',C=1/0.01,solver='saga',max_iter=3000,tol=1e-4,fit_intercept=True,random_state=5,warm_start=False)\n",
    "regressor.fit(trainInputs, trainOutputs)\n",
    "\n",
    "w0, w1, w2 = regressor.intercept_[0], regressor.coef_[0][0], regressor.coef_[0][1]\n",
    "print(f'the learnt model: f(x) = {w0} + {w1} * x1 + {w2} * x2')\n",
    "\n",
    "computedTestOutputs = regressor.predict(testInputs)\n",
    "new_datail = scaler.transform([[18, 10]])\n",
    "pred = regressor.predict_proba(new_datail)[0][1]\n",
    "print(pred)\n",
    "print(\"Noua leziune este:\", \"Maligna\" if pred >= 0.5 else \"Benigna\")\n"
   ],
   "outputs": [
    {
     "name": "stdout",
     "output_type": "stream",
     "text": [
      "the learnt model: f(x) = -0.9601727519880732 + 4.465428942931899 * x1 + 1.042874441260045 * x2\n",
      "0.843464383855511\n",
      "Noua leziune este: Maligna\n"
     ]
    }
   ],
   "execution_count": 3
  },
  {
   "metadata": {
    "ExecuteTime": {
     "end_time": "2025-04-08T17:19:30.407754Z",
     "start_time": "2025-04-08T17:19:30.405566Z"
    }
   },
   "cell_type": "code",
   "source": "",
   "id": "25974f0ac982dbc5",
   "outputs": [],
   "execution_count": null
  }
 ],
 "metadata": {
  "kernelspec": {
   "display_name": "Python 3",
   "language": "python",
   "name": "python3"
  },
  "language_info": {
   "codemirror_mode": {
    "name": "ipython",
    "version": 2
   },
   "file_extension": ".py",
   "mimetype": "text/x-python",
   "name": "python",
   "nbconvert_exporter": "python",
   "pygments_lexer": "ipython2",
   "version": "2.7.6"
  }
 },
 "nbformat": 4,
 "nbformat_minor": 5
}
