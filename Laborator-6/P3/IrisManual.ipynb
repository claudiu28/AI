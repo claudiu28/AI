{
 "cells": [
  {
   "cell_type": "code",
   "id": "initial_id",
   "metadata": {
    "collapsed": true,
    "ExecuteTime": {
     "end_time": "2025-04-09T18:59:26.231896Z",
     "start_time": "2025-04-09T18:59:24.855762Z"
    }
   },
   "source": [
    "import numpy as np\n",
    "import csv\n",
    "from sklearn import linear_model\n",
    "from sklearn.preprocessing import StandardScaler\n",
    "\n",
    "\n",
    "def load_data(file_name):\n",
    "    data = []\n",
    "    with open(file_name) as csv_file:\n",
    "        csv_reader = csv.reader(csv_file, delimiter=',')\n",
    "        for row in csv_reader:\n",
    "            sepal_length = float(row[0])\n",
    "            sepal_width = float(row[1])\n",
    "            petal_length = float(row[2])\n",
    "            petal_width = float(row[3]) \n",
    "            if row[4] == 'Iris-setosa':\n",
    "                label = 0\n",
    "            elif row[4] == 'Iris-versicolor':\n",
    "                label = 1\n",
    "            else:  \n",
    "                label = 2\n",
    "            features = [sepal_length, sepal_width, petal_length, petal_width]\n",
    "            data.append([features, label])\n",
    "            \n",
    "    x = [d[0] for d in data]\n",
    "    y = [d[1] for d in data]\n",
    "    return x, y\n",
    "\n",
    "\n",
    "file = \"../data/iris.data\"\n",
    "inputs, outputs = load_data(file)\n",
    "\n",
    "feature1 = [ex[0] for ex in inputs]\n",
    "feature2 = [ex[1] for ex in inputs]\n",
    "feature3 = [ex[2] for ex in inputs]\n",
    "feature4 = [ex[3] for ex in inputs]\n",
    "\n",
    "np.random.seed(5)\n",
    "indexes = [i for i in range(len(inputs))]\n",
    "trainSample = np.random.choice(indexes, int(0.8 * len(inputs)), replace=False)\n",
    "testSample = [i for i in indexes if not i in trainSample]\n",
    "\n",
    "trainInputs = [inputs[i] for i in trainSample]\n",
    "trainOutputs = [outputs[i] for i in trainSample]\n",
    "testInputs = [inputs[i] for i in testSample]\n",
    "testOutputs = [outputs[i] for i in testSample]\n",
    "\n",
    "scaler = StandardScaler()\n",
    "\n",
    "trainInputs = scaler.fit_transform(trainInputs)\n",
    "testInputs = scaler.transform(testInputs)\n",
    "\n",
    "feature1train = [ex[0] for ex in trainInputs]\n",
    "feature2train = [ex[1] for ex in trainInputs]\n",
    "feature3train = [ex[2] for ex in trainInputs]\n",
    "feature4train = [ex[3] for ex in trainInputs]\n",
    "feature1test = [ex[0] for ex in testInputs]\n",
    "feature2test = [ex[1] for ex in testInputs]\n",
    "feature3test = [ex[2] for ex in testInputs]\n",
    "feature4test = [ex[3] for ex in testInputs]\n",
    "\n",
    "regressor = linear_model.LogisticRegression()\n",
    "regressor.fit(trainInputs, trainOutputs)\n",
    "\n",
    "w0, w1, w2,w3,w4 = regressor.intercept_[0], regressor.coef_[0][0], regressor.coef_[0][1], regressor.coef_[0][2], regressor.coef_[0][3]\n",
    "print(f'the learnt model: f(x) = {w0} + {w1} * x1 + {w2} * x2+ {w3} * x3 + {w4} * x4')\n",
    "\n",
    "computedTestOutputs = regressor.predict(testInputs)\n",
    "new_datail = scaler.transform([[5.35,3.85,1.25,0.4]])\n",
    "pred = regressor.predict(new_datail)\n",
    "print(\"Noua floare este din specia:\", \"Iris-setosa\" if pred == 0 else \n",
    "      \"Iris-versicolor\" if pred == 1 else \"Iris-virginica\")"
   ],
   "outputs": [
    {
     "name": "stdout",
     "output_type": "stream",
     "text": [
      "the learnt model: f(x) = -0.10971986973911929 + -0.9687222535134707 * x1 + 1.2160841674416725 * x2+ -1.7343886978060563 * x3 + -1.6778752555154923 * x4\n",
      "Noua floare este din specia: Iris-setosa\n"
     ]
    }
   ],
   "execution_count": 1
  },
  {
   "metadata": {},
   "cell_type": "code",
   "outputs": [],
   "execution_count": null,
   "source": "",
   "id": "74a413bc35e2258f"
  }
 ],
 "metadata": {
  "kernelspec": {
   "display_name": "Python 3",
   "language": "python",
   "name": "python3"
  },
  "language_info": {
   "codemirror_mode": {
    "name": "ipython",
    "version": 2
   },
   "file_extension": ".py",
   "mimetype": "text/x-python",
   "name": "python",
   "nbconvert_exporter": "python",
   "pygments_lexer": "ipython2",
   "version": "2.7.6"
  }
 },
 "nbformat": 4,
 "nbformat_minor": 5
}
